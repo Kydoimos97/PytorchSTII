{
  "nbformat": 4,
  "nbformat_minor": 0,
  "metadata": {
    "colab": {
      "name": "Section 4.ipynb",
      "provenance": []
    },
    "kernelspec": {
      "name": "python3",
      "display_name": "Python 3"
    },
    "language_info": {
      "name": "python"
    }
  },
  "cells": [
    {
      "cell_type": "markdown",
      "source": [
        "# **Lecture 11 Linear Regression Example**"
      ],
      "metadata": {
        "id": "pj6uOyOdjaKN"
      }
    },
    {
      "cell_type": "code",
      "execution_count": 165,
      "metadata": {
        "id": "d6DARsMxTThh"
      },
      "outputs": [],
      "source": [
        "import torch\n",
        "import torch.nn as nn\n",
        "import numpy as np\n",
        "import matplotlib.pyplot as plt"
      ]
    },
    {
      "cell_type": "code",
      "source": [
        "# Generate N data points\n",
        "N = 50\n",
        "\n",
        "# random data on the x-axis in (-5, +5)\n",
        "X = np.random.random(N)*10 - 5\n",
        "\n",
        "# a line plus some noise\n",
        "Y = 0.5 * X - 1 + np.random.randn(N)"
      ],
      "metadata": {
        "id": "xXPrLQwUhjb3"
      },
      "execution_count": 166,
      "outputs": []
    },
    {
      "cell_type": "code",
      "source": [
        "plt.scatter(X,Y)"
      ],
      "metadata": {
        "colab": {
          "base_uri": "https://localhost:8080/",
          "height": 282
        },
        "id": "hyS8nRBShrgO",
        "outputId": "7fda2828-35f3-4424-ada1-1af6bb8c564b"
      },
      "execution_count": 167,
      "outputs": [
        {
          "output_type": "execute_result",
          "data": {
            "text/plain": [
              "<matplotlib.collections.PathCollection at 0x7fb03656f250>"
            ]
          },
          "metadata": {},
          "execution_count": 167
        },
        {
          "output_type": "display_data",
          "data": {
            "text/plain": [
              "<Figure size 432x288 with 1 Axes>"
            ],
            "image/png": "[encoded data removed]"
          },
          "metadata": {
            "needs_background": "light"
          }
        }
      ]
    },
    {
      "cell_type": "code",
      "source": [
        "model = nn.Linear(1,1)"
      ],
      "metadata": {
        "id": "ALLIVBVQhwgN"
      },
      "execution_count": 168,
      "outputs": []
    },
    {
      "cell_type": "code",
      "source": [
        "# Loss and optimizer\n",
        "criterion = nn.MSELoss()\n",
        "optimizer = torch.optim.SGD(model.parameters(), lr=0.05)"
      ],
      "metadata": {
        "id": "GxcdzUHvh0aJ"
      },
      "execution_count": 169,
      "outputs": []
    },
    {
      "cell_type": "code",
      "source": [
        "# In ML we want our data to be of shape:\n",
        "# (num_samples x num_dimensions)\n",
        "X = X.reshape(N, 1)\n",
        "Y = Y.reshape(N, 1)\n",
        "\n",
        "# PyTorch uses float32 by default\n",
        "# Numpy creates float64 by default\n",
        "inputs = torch.from_numpy(X.astype(np.float32))\n",
        "targets = torch.from_numpy(Y.astype(np.float32))"
      ],
      "metadata": {
        "id": "ZUikQ1z8iJJr"
      },
      "execution_count": 170,
      "outputs": []
    },
    {
      "cell_type": "code",
      "source": [
        "# Train the model\n",
        "n_epochs = int(round(N*1.25,0))\n",
        "losses = []\n",
        "for it in range(n_epochs):\n",
        "  # zero the parameter gradients\n",
        "  optimizer.zero_grad()\n",
        "\n",
        "  # Forward pass\n",
        "  outputs = model(inputs)\n",
        "  loss = criterion(outputs, targets)\n",
        "\n",
        "  # keep the loss so we can plot it later\n",
        "  losses.append(loss.item())\n",
        "    \n",
        "  # Backward and optimize\n",
        "  loss.backward()\n",
        "  optimizer.step()\n",
        "    \n",
        "  print(f'Epoch {it+1}/{n_epochs}, Loss: {loss.item():.4f}')"
      ],
      "metadata": {
        "colab": {
          "base_uri": "https://localhost:8080/"
        },
        "id": "EkbdLoOfiKpU",
        "outputId": "19986228-7b30-4470-f6d0-d4545dc2df40"
      },
      "execution_count": 171,
      "outputs": [
        {
          "output_type": "stream",
          "name": "stdout",
          "text": [
            "Epoch 1/62, Loss: 2.8690\n",
            "Epoch 2/62, Loss: 2.3789\n",
            "Epoch 3/62, Loss: 2.1019\n",
            "Epoch 4/62, Loss: 1.8815\n",
            "Epoch 5/62, Loss: 1.6991\n",
            "Epoch 6/62, Loss: 1.5475\n",
            "Epoch 7/62, Loss: 1.4216\n",
            "Epoch 8/62, Loss: 1.3169\n",
            "Epoch 9/62, Loss: 1.2299\n",
            "Epoch 10/62, Loss: 1.1576\n",
            "Epoch 11/62, Loss: 1.0975\n",
            "Epoch 12/62, Loss: 1.0476\n",
            "Epoch 13/62, Loss: 1.0061\n",
            "Epoch 14/62, Loss: 0.9716\n",
            "Epoch 15/62, Loss: 0.9429\n",
            "Epoch 16/62, Loss: 0.9191\n",
            "Epoch 17/62, Loss: 0.8993\n",
            "Epoch 18/62, Loss: 0.8828\n",
            "Epoch 19/62, Loss: 0.8692\n",
            "Epoch 20/62, Loss: 0.8578\n",
            "Epoch 21/62, Loss: 0.8483\n",
            "Epoch 22/62, Loss: 0.8405\n",
            "Epoch 23/62, Loss: 0.8340\n",
            "Epoch 24/62, Loss: 0.8285\n",
            "Epoch 25/62, Loss: 0.8240\n",
            "Epoch 26/62, Loss: 0.8203\n",
            "Epoch 27/62, Loss: 0.8172\n",
            "Epoch 28/62, Loss: 0.8146\n",
            "Epoch 29/62, Loss: 0.8125\n",
            "Epoch 30/62, Loss: 0.8107\n",
            "Epoch 31/62, Loss: 0.8092\n",
            "Epoch 32/62, Loss: 0.8079\n",
            "Epoch 33/62, Loss: 0.8069\n",
            "Epoch 34/62, Loss: 0.8061\n",
            "Epoch 35/62, Loss: 0.8054\n",
            "Epoch 36/62, Loss: 0.8048\n",
            "Epoch 37/62, Loss: 0.8043\n",
            "Epoch 38/62, Loss: 0.8039\n",
            "Epoch 39/62, Loss: 0.8035\n",
            "Epoch 40/62, Loss: 0.8033\n",
            "Epoch 41/62, Loss: 0.8030\n",
            "Epoch 42/62, Loss: 0.8028\n",
            "Epoch 43/62, Loss: 0.8027\n",
            "Epoch 44/62, Loss: 0.8025\n",
            "Epoch 45/62, Loss: 0.8024\n",
            "Epoch 46/62, Loss: 0.8023\n",
            "Epoch 47/62, Loss: 0.8023\n",
            "Epoch 48/62, Loss: 0.8022\n",
            "Epoch 49/62, Loss: 0.8021\n",
            "Epoch 50/62, Loss: 0.8021\n",
            "Epoch 51/62, Loss: 0.8021\n",
            "Epoch 52/62, Loss: 0.8020\n",
            "Epoch 53/62, Loss: 0.8020\n",
            "Epoch 54/62, Loss: 0.8020\n",
            "Epoch 55/62, Loss: 0.8020\n",
            "Epoch 56/62, Loss: 0.8019\n",
            "Epoch 57/62, Loss: 0.8019\n",
            "Epoch 58/62, Loss: 0.8019\n",
            "Epoch 59/62, Loss: 0.8019\n",
            "Epoch 60/62, Loss: 0.8019\n",
            "Epoch 61/62, Loss: 0.8019\n",
            "Epoch 62/62, Loss: 0.8019\n"
          ]
        }
      ]
    },
    {
      "cell_type": "code",
      "source": [
        "# Plot the loss per iteration\n",
        "plt.plot(losses);"
      ],
      "metadata": {
        "colab": {
          "base_uri": "https://localhost:8080/",
          "height": 265
        },
        "id": "-BRUv1VMiNbU",
        "outputId": "79f87783-3321-42c5-8bc5-c55dced127fe"
      },
      "execution_count": 172,
      "outputs": [
        {
          "output_type": "display_data",
          "data": {
            "text/plain": [
              "<Figure size 432x288 with 1 Axes>"
            ],
            "image/png": "[encoded data removed]"
          },
          "metadata": {
            "needs_background": "light"
          }
        }
      ]
    },
    {
      "cell_type": "code",
      "source": [
        "# Plot the graph\n",
        "predicted = model(inputs).detach().numpy()\n",
        "plt.scatter(X, Y, label='Original data')\n",
        "plt.plot(X, predicted, label='Fitted line', color = 'red')\n",
        "plt.legend()\n",
        "plt.show()"
      ],
      "metadata": {
        "colab": {
          "base_uri": "https://localhost:8080/",
          "height": 265
        },
        "id": "DOD_FabPiSJL",
        "outputId": "bb080c5d-0191-4bbe-a726-b486ffbfdcb6"
      },
      "execution_count": 173,
      "outputs": [
        {
          "output_type": "display_data",
          "data": {
            "text/plain": [
              "<Figure size 432x288 with 1 Axes>"
            ],
            "image/png": "[encoded data removed]"
          },
          "metadata": {
            "needs_background": "light"
          }
        }
      ]
    },
    {
      "cell_type": "code",
      "source": [
        "# Important!\n",
        "# In order to test the efficacy of our model, synthetic data is useful\n",
        "# Why?\n",
        "# Because ***we know the answer***\n",
        "# True values of (w, b) are (0.5, -1)\n",
        "w = model.weight.data.numpy()\n",
        "b = model.bias.data.numpy()\n",
        "print(w, b)"
      ],
      "metadata": {
        "colab": {
          "base_uri": "https://localhost:8080/"
        },
        "id": "iYyAJ_TWiYHb",
        "outputId": "feb96319-e416-4c58-9998-cddef828f98a"
      },
      "execution_count": 174,
      "outputs": [
        {
          "output_type": "stream",
          "name": "stdout",
          "text": [
            "[[0.5923111]] [-0.92756486]\n"
          ]
        }
      ]
    },
    {
      "cell_type": "markdown",
      "source": [
        "# **Lecture 13 Moores Law**"
      ],
      "metadata": {
        "id": "X4UhZz2JljK2"
      }
    },
    {
      "cell_type": "code",
      "source": [
        "import torch\n",
        "import torch.nn as nn\n",
        "import pandas as pd\n",
        "import numpy as np\n",
        "import matplotlib.pyplot as plt"
      ],
      "metadata": {
        "id": "lrTK21PNnDOe"
      },
      "execution_count": 175,
      "outputs": []
    },
    {
      "cell_type": "code",
      "source": [
        "# Get the data\n",
        "!wget -nc https://raw.githubusercontent.com/lazyprogrammer/machine_learning_examples/master/tf2.0/moore.csv"
      ],
      "metadata": {
        "colab": {
          "base_uri": "https://localhost:8080/"
        },
        "id": "_qCc73IenIQA",
        "outputId": "0a5fcc36-a776-4a17-9620-3822e0442809"
      },
      "execution_count": 176,
      "outputs": [
        {
          "output_type": "stream",
          "name": "stdout",
          "text": [
            "File ‘moore.csv’ already there; not retrieving.\n",
            "\n"
          ]
        }
      ]
    },
    {
      "cell_type": "code",
      "source": [
        "# Load in the data\n",
        "data = pd.read_csv('moore.csv', header=None).values\n",
        "X = data[:,0].reshape(-1, 1) # make it a 2-D array of size N x D where D = 1\n",
        "Y = data[:,1].reshape(-1, 1)"
      ],
      "metadata": {
        "id": "NWDwNXb7nISK"
      },
      "execution_count": 177,
      "outputs": []
    },
    {
      "cell_type": "code",
      "source": [
        "# Plot the data - it is exponential!\n",
        "plt.scatter(X, Y)"
      ],
      "metadata": {
        "colab": {
          "base_uri": "https://localhost:8080/",
          "height": 293
        },
        "id": "N92IIXQhnIUe",
        "outputId": "abc58a46-bb5b-407f-be07-5f36fd8c06e8"
      },
      "execution_count": 178,
      "outputs": [
        {
          "output_type": "execute_result",
          "data": {
            "text/plain": [
              "<matplotlib.collections.PathCollection at 0x7fb036432bd0>"
            ]
          },
          "metadata": {},
          "execution_count": 178
        },
        {
          "output_type": "display_data",
          "data": {
            "text/plain": [
              "<Figure size 432x288 with 1 Axes>"
            ],
            "image/png": "[encoded data removed]"
          },
          "metadata": {
            "needs_background": "light"
          }
        }
      ]
    },
    {
      "cell_type": "code",
      "source": [
        "# Since we want a linear model, let's take the log\n",
        "Y = np.log(Y)\n",
        "plt.scatter(X, Y);\n",
        "# that's better"
      ],
      "metadata": {
        "colab": {
          "base_uri": "https://localhost:8080/",
          "height": 265
        },
        "id": "ZVPYvEQxnIWf",
        "outputId": "878939bd-afad-4e17-afea-6847eae6bd69"
      },
      "execution_count": 179,
      "outputs": [
        {
          "output_type": "display_data",
          "data": {
            "text/plain": [
              "<Figure size 432x288 with 1 Axes>"
            ],
            "image/png": "[encoded data removed]"
          },
          "metadata": {
            "needs_background": "light"
          }
        }
      ]
    },
    {
      "cell_type": "code",
      "source": [
        "# Scale and center both the x and y axes\n",
        "mx = X.mean()\n",
        "sx = X.std()\n",
        "my = Y.mean()\n",
        "sy = Y.std()\n",
        "X = (X - mx)/sx\n",
        "Y = (Y - my)/sy"
      ],
      "metadata": {
        "id": "_k8ekjSfnIYk"
      },
      "execution_count": 180,
      "outputs": []
    },
    {
      "cell_type": "code",
      "source": [
        "# Everything is centered and in a small range\n",
        "plt.scatter(X, Y);"
      ],
      "metadata": {
        "colab": {
          "base_uri": "https://localhost:8080/",
          "height": 265
        },
        "id": "i_eVWycgnIad",
        "outputId": "2d478b69-c936-499f-d051-6b9023b735b6"
      },
      "execution_count": 181,
      "outputs": [
        {
          "output_type": "display_data",
          "data": {
            "text/plain": [
              "<Figure size 432x288 with 1 Axes>"
            ],
            "image/png": "[encoded data removed]"
          },
          "metadata": {
            "needs_background": "light"
          }
        }
      ]
    },
    {
      "cell_type": "code",
      "source": [
        "# Cast to float32\n",
        "X = X.astype(np.float32)\n",
        "Y = Y.astype(np.float32)"
      ],
      "metadata": {
        "id": "4t4GaPhYnUXq"
      },
      "execution_count": 182,
      "outputs": []
    },
    {
      "cell_type": "code",
      "source": [
        "# Create the linear regression model\n",
        "model = nn.Linear(1, 1)\n",
        "\n",
        "# Loss and optimizer\n",
        "criterion = nn.MSELoss()\n",
        "optimizer = torch.optim.SGD(model.parameters(), lr=0.01, momentum=0.7)"
      ],
      "metadata": {
        "id": "tliU2HoBnUaE"
      },
      "execution_count": 183,
      "outputs": []
    },
    {
      "cell_type": "code",
      "source": [
        "inputs = torch.from_numpy(X)\n",
        "targets = torch.from_numpy(Y)"
      ],
      "metadata": {
        "id": "xeFsoipCnUcy"
      },
      "execution_count": 184,
      "outputs": []
    },
    {
      "cell_type": "code",
      "source": [
        "# Train the model\n",
        "n_epochs = 100\n",
        "losses = []\n",
        "for it in range(n_epochs):\n",
        "  # zero the parameter gradients\n",
        "  optimizer.zero_grad()\n",
        "\n",
        "  # Forward pass\n",
        "  outputs = model(inputs)\n",
        "  loss = criterion(outputs, targets)\n",
        "\n",
        "  # Record the loss\n",
        "  losses.append(loss.item())\n",
        "    \n",
        "  # Backward and optimize\n",
        "  loss.backward()\n",
        "  optimizer.step()\n",
        "    \n",
        "  print(f'Epoch {it+1}/{n_epochs}, Loss: {loss.item():.4f}')"
      ],
      "metadata": {
        "colab": {
          "base_uri": "https://localhost:8080/"
        },
        "id": "voZsaYT-nZyz",
        "outputId": "cab5fd5b-524b-4840-a058-00d35e878dcf"
      },
      "execution_count": 185,
      "outputs": [
        {
          "output_type": "stream",
          "name": "stdout",
          "text": [
            "Epoch 1/100, Loss: 0.9361\n",
            "Epoch 2/100, Loss: 0.9005\n",
            "Epoch 3/100, Loss: 0.8424\n",
            "Epoch 4/100, Loss: 0.7719\n",
            "Epoch 5/100, Loss: 0.6964\n",
            "Epoch 6/100, Loss: 0.6210\n",
            "Epoch 7/100, Loss: 0.5489\n",
            "Epoch 8/100, Loss: 0.4820\n",
            "Epoch 9/100, Loss: 0.4213\n",
            "Epoch 10/100, Loss: 0.3671\n",
            "Epoch 11/100, Loss: 0.3194\n",
            "Epoch 12/100, Loss: 0.2777\n",
            "Epoch 13/100, Loss: 0.2416\n",
            "Epoch 14/100, Loss: 0.2105\n",
            "Epoch 15/100, Loss: 0.1839\n",
            "Epoch 16/100, Loss: 0.1612\n",
            "Epoch 17/100, Loss: 0.1419\n",
            "Epoch 18/100, Loss: 0.1256\n",
            "Epoch 19/100, Loss: 0.1117\n",
            "Epoch 20/100, Loss: 0.1000\n",
            "Epoch 21/100, Loss: 0.0902\n",
            "Epoch 22/100, Loss: 0.0818\n",
            "Epoch 23/100, Loss: 0.0749\n",
            "Epoch 24/100, Loss: 0.0690\n",
            "Epoch 25/100, Loss: 0.0641\n",
            "Epoch 26/100, Loss: 0.0599\n",
            "Epoch 27/100, Loss: 0.0564\n",
            "Epoch 28/100, Loss: 0.0535\n",
            "Epoch 29/100, Loss: 0.0511\n",
            "Epoch 30/100, Loss: 0.0490\n",
            "Epoch 31/100, Loss: 0.0473\n",
            "Epoch 32/100, Loss: 0.0459\n",
            "Epoch 33/100, Loss: 0.0447\n",
            "Epoch 34/100, Loss: 0.0437\n",
            "Epoch 35/100, Loss: 0.0428\n",
            "Epoch 36/100, Loss: 0.0421\n",
            "Epoch 37/100, Loss: 0.0415\n",
            "Epoch 38/100, Loss: 0.0410\n",
            "Epoch 39/100, Loss: 0.0406\n",
            "Epoch 40/100, Loss: 0.0403\n",
            "Epoch 41/100, Loss: 0.0400\n",
            "Epoch 42/100, Loss: 0.0397\n",
            "Epoch 43/100, Loss: 0.0395\n",
            "Epoch 44/100, Loss: 0.0394\n",
            "Epoch 45/100, Loss: 0.0392\n",
            "Epoch 46/100, Loss: 0.0391\n",
            "Epoch 47/100, Loss: 0.0390\n",
            "Epoch 48/100, Loss: 0.0389\n",
            "Epoch 49/100, Loss: 0.0388\n",
            "Epoch 50/100, Loss: 0.0388\n",
            "Epoch 51/100, Loss: 0.0387\n",
            "Epoch 52/100, Loss: 0.0387\n",
            "Epoch 53/100, Loss: 0.0387\n",
            "Epoch 54/100, Loss: 0.0386\n",
            "Epoch 55/100, Loss: 0.0386\n",
            "Epoch 56/100, Loss: 0.0386\n",
            "Epoch 57/100, Loss: 0.0386\n",
            "Epoch 58/100, Loss: 0.0386\n",
            "Epoch 59/100, Loss: 0.0385\n",
            "Epoch 60/100, Loss: 0.0385\n",
            "Epoch 61/100, Loss: 0.0385\n",
            "Epoch 62/100, Loss: 0.0385\n",
            "Epoch 63/100, Loss: 0.0385\n",
            "Epoch 64/100, Loss: 0.0385\n",
            "Epoch 65/100, Loss: 0.0385\n",
            "Epoch 66/100, Loss: 0.0385\n",
            "Epoch 67/100, Loss: 0.0385\n",
            "Epoch 68/100, Loss: 0.0385\n",
            "Epoch 69/100, Loss: 0.0385\n",
            "Epoch 70/100, Loss: 0.0385\n",
            "Epoch 71/100, Loss: 0.0385\n",
            "Epoch 72/100, Loss: 0.0385\n",
            "Epoch 73/100, Loss: 0.0385\n",
            "Epoch 74/100, Loss: 0.0385\n",
            "Epoch 75/100, Loss: 0.0385\n",
            "Epoch 76/100, Loss: 0.0385\n",
            "Epoch 77/100, Loss: 0.0385\n",
            "Epoch 78/100, Loss: 0.0385\n",
            "Epoch 79/100, Loss: 0.0385\n",
            "Epoch 80/100, Loss: 0.0385\n",
            "Epoch 81/100, Loss: 0.0385\n",
            "Epoch 82/100, Loss: 0.0385\n",
            "Epoch 83/100, Loss: 0.0385\n",
            "Epoch 84/100, Loss: 0.0385\n",
            "Epoch 85/100, Loss: 0.0385\n",
            "Epoch 86/100, Loss: 0.0385\n",
            "Epoch 87/100, Loss: 0.0385\n",
            "Epoch 88/100, Loss: 0.0385\n",
            "Epoch 89/100, Loss: 0.0385\n",
            "Epoch 90/100, Loss: 0.0385\n",
            "Epoch 91/100, Loss: 0.0385\n",
            "Epoch 92/100, Loss: 0.0385\n",
            "Epoch 93/100, Loss: 0.0385\n",
            "Epoch 94/100, Loss: 0.0385\n",
            "Epoch 95/100, Loss: 0.0385\n",
            "Epoch 96/100, Loss: 0.0385\n",
            "Epoch 97/100, Loss: 0.0385\n",
            "Epoch 98/100, Loss: 0.0385\n",
            "Epoch 99/100, Loss: 0.0385\n",
            "Epoch 100/100, Loss: 0.0385\n"
          ]
        }
      ]
    },
    {
      "cell_type": "code",
      "source": [
        "# Loss per iteration\n",
        "plt.plot(losses);"
      ],
      "metadata": {
        "colab": {
          "base_uri": "https://localhost:8080/",
          "height": 265
        },
        "id": "j7GYP7XdnZ2L",
        "outputId": "5c48fc54-220f-4320-c05e-d6913fc7d681"
      },
      "execution_count": 186,
      "outputs": [
        {
          "output_type": "display_data",
          "data": {
            "text/plain": [
              "<Figure size 432x288 with 1 Axes>"
            ],
            "image/png": "[encoded data removed]"
          },
          "metadata": {
            "needs_background": "light"
          }
        }
      ]
    },
    {
      "cell_type": "code",
      "source": [
        "# Plot the graph\n",
        "predicted = model(torch.from_numpy(X)).detach().numpy()\n",
        "plt.plot(X, Y, 'ro', label='Original data', color = 'blue')\n",
        "plt.plot(X, predicted, label='Fitted line', color = 'red')\n",
        "plt.legend()\n",
        "plt.show()"
      ],
      "metadata": {
        "colab": {
          "base_uri": "https://localhost:8080/",
          "height": 265
        },
        "id": "dCTipCRknegY",
        "outputId": "6ae06c65-a66b-42cc-81b1-fd9511e3180e"
      },
      "execution_count": 187,
      "outputs": [
        {
          "output_type": "display_data",
          "data": {
            "text/plain": [
              "<Figure size 432x288 with 1 Axes>"
            ],
            "image/png": "[encoded data removed]"
          },
          "metadata": {
            "needs_background": "light"
          }
        }
      ]
    },
    {
      "cell_type": "code",
      "source": [
        "# What does this mean?\n",
        "w = model.weight.data.numpy()\n",
        "print(w)"
      ],
      "metadata": {
        "colab": {
          "base_uri": "https://localhost:8080/"
        },
        "id": "0UpwtQ8anrTY",
        "outputId": "70e1cc5c-2830-4cf3-f75d-536e920e50dd"
      },
      "execution_count": 188,
      "outputs": [
        {
          "output_type": "stream",
          "name": "stdout",
          "text": [
            "[[0.9804392]]\n"
          ]
        }
      ]
    },
    {
      "cell_type": "markdown",
      "source": [
        "# Transforming back to original scale\n",
        "\n",
        "Our original hypothesis is that the growth is exponential. This has the form:\n",
        "\n",
        "$$ C = C_0 r ^ t $$\n",
        "\n",
        "In this equation, $C$ is the transistor count, $t$ is the year, $C_0$ is the original transistor count at year $0$, and $r$ is the rate of growth.\n",
        "\n",
        "We made this equation linear by taking the log of both sides.\n",
        "\n",
        "$$ \\log C = \\log C_0 + \\log r * t $$\n",
        "\n",
        "Here, $\\log C$ represents the variable that goes along the y-axis, and $t$ represents the variable that goes along the x-axis.\n",
        "\n",
        "In other words, under our hypothesized model, the log of transistor counts is linear with respect to time.\n",
        "\n",
        "Let us rename the variables to a more familiar form:\n",
        "\n",
        "$$ y = a x + \\log C_0 $$\n",
        "\n",
        "Now $y=\\log C$ represents the log of transistor counts and $x=t$ represents time. $a = \\log r$ is the slope and $\\log C_0$ is the y-intercept.\n",
        "\n",
        "# Our Model\n",
        "\n",
        "We normalized the data as follows:\n",
        "\n",
        "$$ y' = \\frac{y - m_y}{s_y} $$\n",
        "\n",
        "$$ x' = \\frac{x - m_x}{s_x} $$\n",
        "\n",
        "Here, $m_x$ represents the sample mean of the $x$ data and $s_x$ represens the sample standard deviation of the $x$ data, with analogous definitions for $m_y$ and $s_y$.\n",
        "\n",
        "Our model looks like:\n",
        "\n",
        "$$ y' = wx' + b $$\n",
        "\n",
        "We can recover the original model by substituting $x'$ and $y'$ with corresponding expressions in terms of $x$ and $y$.\n",
        "\n",
        "$$ \\frac{y - m_y}{s_y} = w \\frac{x - m_x}{s_x} + b $$\n",
        "\n",
        "After some algebraic manipulation (try it yourself, it's only high school math), we get:\n",
        "\n",
        "$$ y = w \\frac{s_y}{s_x} x - w \\frac{s_y}{s_x} m_x + b s_y + m_y = a x + \\log C_0 $$\n",
        "\n",
        "It is clear that the coefficient in front of $x$ represents our original $a$, and the sum of all the other terms represents $\\log C_0$.\n",
        "\n",
        "We are only interested in the doubling time, so we have found that:\n",
        "\n",
        "$$ a = w \\frac{s_y}{s_x} $$"
      ],
      "metadata": {
        "id": "84jSi86FnzLQ"
      }
    },
    {
      "cell_type": "code",
      "source": [
        "a = w[0,0] * sy / sx\n",
        "print(a)"
      ],
      "metadata": {
        "colab": {
          "base_uri": "https://localhost:8080/"
        },
        "id": "z8d_PmOwnrVL",
        "outputId": "0f791213-6be6-41e3-e14c-bf4d62bc6107"
      },
      "execution_count": 189,
      "outputs": [
        {
          "output_type": "stream",
          "name": "stdout",
          "text": [
            "0.34163651361115693\n"
          ]
        }
      ]
    },
    {
      "cell_type": "markdown",
      "source": [
        "# Exponential Growth Model\n",
        "\n",
        "Our equation is currently linear. We still need to find the doubling time.\n",
        "\n",
        "Our original model for exponential growth is:\n",
        "\n",
        "$$ C = C_0 r^t $$\n",
        "\n",
        "Where $ C $ is transistor the count and $ t $ is the year.\n",
        "\n",
        "$ r $ is the rate of growth. For example, when $ t $ goes from 1 to 2, $ C $ increases by a factor of $ r $. When $ t $ goes from 2 to 3, $ C $ increases by a factor of $ r $ again.\n",
        "\n",
        "When we take the log of both sides, we get:\n",
        "\n",
        "$$ \\log C = \\log r * t + \\log C_0 $$\n",
        "\n",
        "This is our linear equation:\n",
        "\n",
        "$$ y = ax + \\log C_0 $$\n",
        "\n",
        "Where:\n",
        "\n",
        "$$ y = \\log C $$\n",
        "$$ a = \\log r $$\n",
        "$$ x = t $$\n",
        "\n",
        "We are interested in $ r $, because that's the rate of growth. Given our regression weights, we know that:\n",
        "\n",
        "$$ a = 0.341659983 $$\n",
        "\n",
        "so that:\n",
        "\n",
        "$$ r = e^{0.341659983} = 1.40728 $$\n",
        "\n",
        "To find the time it takes for transistor count to double, we simply need to find the amount of time it takes for $ C $ to increase to $ 2C $.\n",
        "\n",
        "Let's call the original starting time $ t $, to correspond with the initial transistor count $ C $.\n",
        "\n",
        "Let's call the end time $ t' $, to correspond with the final transistor count $ 2C $.\n",
        "\n",
        "Then we also have:\n",
        "\n",
        "$$ 2C = C_0 r ^ {t'} $$\n",
        "\n",
        "Combine this with our original equation:\n",
        "\n",
        "$$ C = C_0 r^t $$\n",
        "\n",
        "We get (by dividing the 2 equations):\n",
        "\n",
        "$$ 2C/C = (C_0 r ^ {t'}) / C_0 r^t $$\n",
        "\n",
        "Which simplifies to:\n",
        "\n",
        "$$ 2 = r^{(t' - t)} $$\n",
        "\n",
        "Solve for $ t' - t $:\n",
        "\n",
        "$$ t' - t = \\frac{\\log 2}{\\log r} = \\frac{\\log2}{a}$$\n",
        "\n",
        "\n",
        "Important note! We haven't specified what the starting time $ t $ actually is, and we don't have to since we just proved that this holds for any $ t $."
      ],
      "metadata": {
        "id": "LZCTjIv3n4_W"
      }
    },
    {
      "cell_type": "code",
      "source": [
        "print(\"Time to double:\", np.log(2) / a)"
      ],
      "metadata": {
        "colab": {
          "base_uri": "https://localhost:8080/"
        },
        "id": "UiUIhe2eneiT",
        "outputId": "607d535c-fe62-40a8-b2f4-db1b286f4fea"
      },
      "execution_count": 190,
      "outputs": [
        {
          "output_type": "stream",
          "name": "stdout",
          "text": [
            "Time to double: 2.028902511717088\n"
          ]
        }
      ]
    },
    {
      "cell_type": "markdown",
      "source": [
        "# Exercise\n",
        "\n",
        "What happens when you *don't* normalize the data?\n",
        "\n",
        "This makes it easier because you no longer need to do the transformation step.\n",
        "\n",
        "But what happens to the optimization? Can you use the same learning rate as we did originally? NO: "
      ],
      "metadata": {
        "id": "gtOJ_5BFoBk5"
      }
    },
    {
      "cell_type": "code",
      "source": [
        "# Load in the data\n",
        "data = pd.read_csv('moore.csv', header=None).values\n",
        "X = data[:,0].reshape(-1, 1) # make it a 2-D array of size N x D where D = 1\n",
        "Y = data[:,1].reshape(-1, 1)\n",
        "\n",
        "# To Linear\n",
        "Y = np.log(Y)\n",
        "plt.scatter(X, Y);\n",
        "\n",
        "# Cast to float32\n",
        "X = X.astype(np.float32)\n",
        "Y = Y.astype(np.float32)\n",
        "\n",
        "# Create the linear regression model\n",
        "model = nn.Linear(1, 1)\n",
        "\n",
        "# Loss and optimizer\n",
        "criterion = nn.MSELoss()\n",
        "optimizer = torch.optim.SGD(model.parameters(), lr=0.01, momentum=0.7)\n",
        "\n",
        "inputs = torch.from_numpy(X)\n",
        "targets = torch.from_numpy(Y)\n",
        "\n",
        "\n",
        "\n",
        "# Train the model\n",
        "n_epochs = 5\n",
        "losses = []\n",
        "for it in range(n_epochs):\n",
        "  # zero the parameter gradients\n",
        "  optimizer.zero_grad()\n",
        "\n",
        "  # Forward pass\n",
        "  outputs = model(inputs)\n",
        "  loss = criterion(outputs, targets)\n",
        "\n",
        "  # Record the loss\n",
        "  losses.append(loss.item())\n",
        "    \n",
        "  # Backward and optimize\n",
        "  loss.backward()\n",
        "  optimizer.step()\n",
        " \n",
        "  print(f'Epoch {it+1}/{n_epochs}, Loss: {loss.item():.4f}')\n",
        "\n"
      ],
      "metadata": {
        "colab": {
          "base_uri": "https://localhost:8080/",
          "height": 352
        },
        "id": "Ih1fulf-nekR",
        "outputId": "0c54bd32-062a-4c6a-8ba1-088930b4f8ee"
      },
      "execution_count": 191,
      "outputs": [
        {
          "output_type": "stream",
          "name": "stdout",
          "text": [
            "Epoch 1/5, Loss: 599014.6250\n",
            "Epoch 2/5, Loss: 3850692120805376.0000\n",
            "Epoch 3/5, Loss: 24754156264484726907076608.0000\n",
            "Epoch 4/5, Loss: 159132230386458178534140623305310208.0000\n",
            "Epoch 5/5, Loss: inf\n"
          ]
        },
        {
          "output_type": "display_data",
          "data": {
            "text/plain": [
              "<Figure size 432x288 with 1 Axes>"
            ],
            "image/png": "[encoded data removed]"
          },
          "metadata": {
            "needs_background": "light"
          }
        }
      ]
    },
    {
      "cell_type": "code",
      "source": [
        "# Load in the data\n",
        "data = pd.read_csv('moore.csv', header=None).values\n",
        "X = data[:,0].reshape(-1, 1) # make it a 2-D array of size N x D where D = 1\n",
        "Y = data[:,1].reshape(-1, 1)\n",
        "\n",
        "# To Linear\n",
        "Y = np.log(Y)\n",
        "plt.scatter(X, Y);\n",
        "\n",
        "# Cast to float32\n",
        "X = X.astype(np.float32)\n",
        "Y = Y.astype(np.float32)\n",
        "\n",
        "# Create the linear regression model\n",
        "model = nn.Linear(1, 1)\n",
        "\n",
        "# Loss and optimizer\n",
        "criterion = nn.MSELoss()\n",
        "optimizer = torch.optim.SGD(model.parameters(), lr=1, momentum=4)\n",
        "\n",
        "inputs = torch.from_numpy(X)\n",
        "targets = torch.from_numpy(Y)\n",
        "\n",
        "# Train the model\n",
        "n_epochs = 10\n",
        "losses = []\n",
        "for it in range(n_epochs):\n",
        "  # zero the parameter gradients\n",
        "  optimizer.zero_grad()\n",
        "\n",
        "  # Forward pass\n",
        "  outputs = model(inputs)\n",
        "  loss = criterion(outputs, targets)\n",
        "\n",
        "  # Record the loss\n",
        "  losses.append(loss.item())\n",
        "    \n",
        "  # Backward and optimize\n",
        "  loss.backward()\n",
        "  optimizer.step()\n",
        " \n",
        "  print(f'Epoch {it+1}/{n_epochs}, Loss: {loss.item():.4f}')\n",
        "\n"
      ],
      "metadata": {
        "colab": {
          "base_uri": "https://localhost:8080/",
          "height": 439
        },
        "id": "-BR6y-yaoVxm",
        "outputId": "335559a5-2cdc-482f-bfef-93fcb2130288"
      },
      "execution_count": 192,
      "outputs": [
        {
          "output_type": "stream",
          "name": "stdout",
          "text": [
            "Epoch 1/10, Loss: 2346792.7500\n",
            "Epoch 2/10, Loss: 150868494046772330496.0000\n",
            "Epoch 3/10, Loss: 9698994050692508097075534983331840.0000\n",
            "Epoch 4/10, Loss: inf\n",
            "Epoch 5/10, Loss: inf\n",
            "Epoch 6/10, Loss: inf\n",
            "Epoch 7/10, Loss: inf\n",
            "Epoch 8/10, Loss: nan\n",
            "Epoch 9/10, Loss: nan\n",
            "Epoch 10/10, Loss: nan\n"
          ]
        },
        {
          "output_type": "display_data",
          "data": {
            "text/plain": [
              "<Figure size 432x288 with 1 Axes>"
            ],
            "image/png": "[encoded data removed]"
          },
          "metadata": {
            "needs_background": "light"
          }
        }
      ]
    },
    {
      "cell_type": "markdown",
      "source": [
        "# **Classification NoteBook**"
      ],
      "metadata": {
        "id": "MH66z9lhuKgE"
      }
    },
    {
      "cell_type": "code",
      "source": [
        "import torch\n",
        "import torch.nn as nn\n",
        "import numpy as np\n",
        "import matplotlib.pyplot as plt"
      ],
      "metadata": {
        "id": "LM2sqHxiuJvj"
      },
      "execution_count": 193,
      "outputs": []
    },
    {
      "cell_type": "code",
      "source": [
        "# Load in the data\n",
        "from sklearn.datasets import load_breast_cancer\n",
        "\n",
        "# load the data\n",
        "data = load_breast_cancer()\n",
        "\n",
        "# check the type of 'data'\n",
        "type(data)"
      ],
      "metadata": {
        "colab": {
          "base_uri": "https://localhost:8080/"
        },
        "id": "klkkw_5zuJxc",
        "outputId": "b41187a6-30ae-43cf-c038-2f13e98a9e8e"
      },
      "execution_count": 194,
      "outputs": [
        {
          "output_type": "execute_result",
          "data": {
            "text/plain": [
              "sklearn.utils.Bunch"
            ]
          },
          "metadata": {},
          "execution_count": 194
        }
      ]
    },
    {
      "cell_type": "code",
      "source": [
        "# note: it is a Bunch object\n",
        "# this basically acts like a dictionary where you can treat the keys like attributes\n",
        "data.keys()"
      ],
      "metadata": {
        "colab": {
          "base_uri": "https://localhost:8080/"
        },
        "id": "tbMJAkbBuUlt",
        "outputId": "471b6d14-0864-4fc5-8943-948585fc8e6d"
      },
      "execution_count": 195,
      "outputs": [
        {
          "output_type": "execute_result",
          "data": {
            "text/plain": [
              "dict_keys(['data', 'target', 'frame', 'target_names', 'DESCR', 'feature_names', 'filename', 'data_module'])"
            ]
          },
          "metadata": {},
          "execution_count": 195
        }
      ]
    },
    {
      "cell_type": "code",
      "source": [
        "# 'data' (the attribute) means the input data\n",
        "data.data.shape\n",
        "# it has 569 samples, 30 features"
      ],
      "metadata": {
        "colab": {
          "base_uri": "https://localhost:8080/"
        },
        "id": "i-pbF1OOuXko",
        "outputId": "8c175f4f-43b1-4668-f995-5ca201a8e670"
      },
      "execution_count": 196,
      "outputs": [
        {
          "output_type": "execute_result",
          "data": {
            "text/plain": [
              "(569, 30)"
            ]
          },
          "metadata": {},
          "execution_count": 196
        }
      ]
    },
    {
      "cell_type": "code",
      "source": [
        "# 'targets'\n",
        "data.target\n",
        "# note how the targets are just 0s and 1s\n",
        "# normally, when you have K targets, they are labeled 0..K-1"
      ],
      "metadata": {
        "colab": {
          "base_uri": "https://localhost:8080/"
        },
        "id": "lhk-Y_a2uZ4I",
        "outputId": "6273beb5-3434-4e2c-d691-8a9ed82011ce"
      },
      "execution_count": 197,
      "outputs": [
        {
          "output_type": "execute_result",
          "data": {
            "text/plain": [
              "array([0, 0, 0, 0, 0, 0, 0, 0, 0, 0, 0, 0, 0, 0, 0, 0, 0, 0, 0, 1, 1, 1,\n",
              "       0, 0, 0, 0, 0, 0, 0, 0, 0, 0, 0, 0, 0, 0, 0, 1, 0, 0, 0, 0, 0, 0,\n",
              "       0, 0, 1, 0, 1, 1, 1, 1, 1, 0, 0, 1, 0, 0, 1, 1, 1, 1, 0, 1, 0, 0,\n",
              "       1, 1, 1, 1, 0, 1, 0, 0, 1, 0, 1, 0, 0, 1, 1, 1, 0, 0, 1, 0, 0, 0,\n",
              "       1, 1, 1, 0, 1, 1, 0, 0, 1, 1, 1, 0, 0, 1, 1, 1, 1, 0, 1, 1, 0, 1,\n",
              "       1, 1, 1, 1, 1, 1, 1, 0, 0, 0, 1, 0, 0, 1, 1, 1, 0, 0, 1, 0, 1, 0,\n",
              "       0, 1, 0, 0, 1, 1, 0, 1, 1, 0, 1, 1, 1, 1, 0, 1, 1, 1, 1, 1, 1, 1,\n",
              "       1, 1, 0, 1, 1, 1, 1, 0, 0, 1, 0, 1, 1, 0, 0, 1, 1, 0, 0, 1, 1, 1,\n",
              "       1, 0, 1, 1, 0, 0, 0, 1, 0, 1, 0, 1, 1, 1, 0, 1, 1, 0, 0, 1, 0, 0,\n",
              "       0, 0, 1, 0, 0, 0, 1, 0, 1, 0, 1, 1, 0, 1, 0, 0, 0, 0, 1, 1, 0, 0,\n",
              "       1, 1, 1, 0, 1, 1, 1, 1, 1, 0, 0, 1, 1, 0, 1, 1, 0, 0, 1, 0, 1, 1,\n",
              "       1, 1, 0, 1, 1, 1, 1, 1, 0, 1, 0, 0, 0, 0, 0, 0, 0, 0, 0, 0, 0, 0,\n",
              "       0, 0, 1, 1, 1, 1, 1, 1, 0, 1, 0, 1, 1, 0, 1, 1, 0, 1, 0, 0, 1, 1,\n",
              "       1, 1, 1, 1, 1, 1, 1, 1, 1, 1, 1, 0, 1, 1, 0, 1, 0, 1, 1, 1, 1, 1,\n",
              "       1, 1, 1, 1, 1, 1, 1, 1, 1, 0, 1, 1, 1, 0, 1, 0, 1, 1, 1, 1, 0, 0,\n",
              "       0, 1, 1, 1, 1, 0, 1, 0, 1, 0, 1, 1, 1, 0, 1, 1, 1, 1, 1, 1, 1, 0,\n",
              "       0, 0, 1, 1, 1, 1, 1, 1, 1, 1, 1, 1, 1, 0, 0, 1, 0, 0, 0, 1, 0, 0,\n",
              "       1, 1, 1, 1, 1, 0, 1, 1, 1, 1, 1, 0, 1, 1, 1, 0, 1, 1, 0, 0, 1, 1,\n",
              "       1, 1, 1, 1, 0, 1, 1, 1, 1, 1, 1, 1, 0, 1, 1, 1, 1, 1, 0, 1, 1, 0,\n",
              "       1, 1, 1, 1, 1, 1, 1, 1, 1, 1, 1, 1, 0, 1, 0, 0, 1, 0, 1, 1, 1, 1,\n",
              "       1, 0, 1, 1, 0, 1, 0, 1, 1, 0, 1, 0, 1, 1, 1, 1, 1, 1, 1, 1, 0, 0,\n",
              "       1, 1, 1, 1, 1, 1, 0, 1, 1, 1, 1, 1, 1, 1, 1, 1, 1, 0, 1, 1, 1, 1,\n",
              "       1, 1, 1, 0, 1, 0, 1, 1, 0, 1, 1, 1, 1, 1, 0, 0, 1, 0, 1, 0, 1, 1,\n",
              "       1, 1, 1, 0, 1, 1, 0, 1, 0, 1, 0, 0, 1, 1, 1, 0, 1, 1, 1, 1, 1, 1,\n",
              "       1, 1, 1, 1, 1, 0, 1, 0, 0, 1, 1, 1, 1, 1, 1, 1, 1, 1, 1, 1, 1, 1,\n",
              "       1, 1, 1, 1, 1, 1, 1, 1, 1, 1, 1, 1, 0, 0, 0, 0, 0, 0, 1])"
            ]
          },
          "metadata": {},
          "execution_count": 197
        }
      ]
    },
    {
      "cell_type": "code",
      "source": [
        "# their meaning is not lost\n",
        "data.target_names"
      ],
      "metadata": {
        "colab": {
          "base_uri": "https://localhost:8080/"
        },
        "id": "A0NolWuVudvV",
        "outputId": "e83dc404-bdba-4884-9a7a-16e39d662de1"
      },
      "execution_count": 198,
      "outputs": [
        {
          "output_type": "execute_result",
          "data": {
            "text/plain": [
              "array(['malignant', 'benign'], dtype='<U9')"
            ]
          },
          "metadata": {},
          "execution_count": 198
        }
      ]
    },
    {
      "cell_type": "code",
      "source": [
        "# there are also 569 corresponding targets\n",
        "data.target.shape"
      ],
      "metadata": {
        "colab": {
          "base_uri": "https://localhost:8080/"
        },
        "id": "I8q4USjfuff-",
        "outputId": "5db96888-3c0d-40dc-e009-989bfa5cc28c"
      },
      "execution_count": 199,
      "outputs": [
        {
          "output_type": "execute_result",
          "data": {
            "text/plain": [
              "(569,)"
            ]
          },
          "metadata": {},
          "execution_count": 199
        }
      ]
    },
    {
      "cell_type": "code",
      "source": [
        "# you can also determine the meaning of each feature\n",
        "data.feature_names"
      ],
      "metadata": {
        "colab": {
          "base_uri": "https://localhost:8080/"
        },
        "id": "4BCp5SYquhxL",
        "outputId": "a4ad18e3-0c90-4df2-8b88-611b4d760729"
      },
      "execution_count": 200,
      "outputs": [
        {
          "output_type": "execute_result",
          "data": {
            "text/plain": [
              "array(['mean radius', 'mean texture', 'mean perimeter', 'mean area',\n",
              "       'mean smoothness', 'mean compactness', 'mean concavity',\n",
              "       'mean concave points', 'mean symmetry', 'mean fractal dimension',\n",
              "       'radius error', 'texture error', 'perimeter error', 'area error',\n",
              "       'smoothness error', 'compactness error', 'concavity error',\n",
              "       'concave points error', 'symmetry error',\n",
              "       'fractal dimension error', 'worst radius', 'worst texture',\n",
              "       'worst perimeter', 'worst area', 'worst smoothness',\n",
              "       'worst compactness', 'worst concavity', 'worst concave points',\n",
              "       'worst symmetry', 'worst fractal dimension'], dtype='<U23')"
            ]
          },
          "metadata": {},
          "execution_count": 200
        }
      ]
    },
    {
      "cell_type": "code",
      "source": [
        "# normally we would put all of our imports at the top\n",
        "# but this lets us tell a story\n",
        "from sklearn.model_selection import train_test_split\n",
        "\n",
        "\n",
        "# split the data into train and test sets\n",
        "# this lets us simulate how our model will perform in the future\n",
        "X_train, X_test, y_train, y_test = train_test_split(data.data, data.target, test_size=0.33)\n",
        "N, D = X_train.shape"
      ],
      "metadata": {
        "id": "PFuR_jwyukdJ"
      },
      "execution_count": 201,
      "outputs": []
    },
    {
      "cell_type": "code",
      "source": [
        "# Scale the data\n",
        "# you'll learn why scaling is needed in a later course\n",
        "# Scaling. This means that you're transforming your data so that it fits within a specific scale, like 0-100 or 0-1. \n",
        "#You want to scale data when you're using methods based on measures of how far apart data points, like support vector machines, or SVM or k-nearest neighbors, or KNN.\n",
        "# So all the different variances of inputs are the same so the distances between points are the same\n",
        "from sklearn.preprocessing import StandardScaler\n",
        "\n",
        "scaler = StandardScaler()\n",
        "X_train = scaler.fit_transform(X_train)\n",
        "X_test = scaler.transform(X_test)"
      ],
      "metadata": {
        "id": "MkSDjuFUumP0"
      },
      "execution_count": 202,
      "outputs": []
    },
    {
      "cell_type": "code",
      "source": [
        "# Now all the fun PyTorch stuff\n",
        "# Build the model\n",
        "model = nn.Sequential(\n",
        "    nn.Linear(D, 1),\n",
        "    nn.Sigmoid()\n",
        ")"
      ],
      "metadata": {
        "id": "mHFZKC1hu6Ef"
      },
      "execution_count": 203,
      "outputs": []
    },
    {
      "cell_type": "code",
      "source": [
        "# Loss and optimizer\n",
        "criterion = nn.BCELoss()\n",
        "optimizer = torch.optim.Adam(model.parameters())"
      ],
      "metadata": {
        "id": "Oi4cF52Zu8Oc"
      },
      "execution_count": 204,
      "outputs": []
    },
    {
      "cell_type": "code",
      "source": [
        "# Convert data into torch tensors\n",
        "X_train = torch.from_numpy(X_train.astype(np.float32))\n",
        "X_test = torch.from_numpy(X_test.astype(np.float32))\n",
        "y_train = torch.from_numpy(y_train.astype(np.float32).reshape(-1, 1))\n",
        "y_test = torch.from_numpy(y_test.astype(np.float32).reshape(-1, 1))"
      ],
      "metadata": {
        "id": "Xi2EmClzu8Pp"
      },
      "execution_count": 205,
      "outputs": []
    },
    {
      "cell_type": "code",
      "source": [
        "# Train the model\n",
        "n_epochs = 1000\n",
        "\n",
        "# Stuff to store\n",
        "train_losses = np.zeros(n_epochs)\n",
        "test_losses = np.zeros(n_epochs)\n",
        "\n",
        "for it in range(n_epochs):\n",
        "  # zero the parameter gradients\n",
        "  optimizer.zero_grad()\n",
        "\n",
        "  # Forward pass\n",
        "  outputs = model(X_train)\n",
        "  loss = criterion(outputs, y_train)\n",
        "    \n",
        "  # Backward and optimize\n",
        "  loss.backward()\n",
        "  optimizer.step()\n",
        "\n",
        "  # Get test loss\n",
        "  outputs_test = model(X_test)\n",
        "  loss_test = criterion(outputs_test, y_test)\n",
        "\n",
        "  # Save losses\n",
        "  train_losses[it] = loss.item()\n",
        "  test_losses[it] = loss_test.item()\n",
        "    \n",
        "  if (it + 1) % 50 == 0:\n",
        "    print(f'Epoch {it+1}/{n_epochs}, Train Loss: {loss.item():.4f}, Test Loss: {loss_test.item():.4f}')"
      ],
      "metadata": {
        "colab": {
          "base_uri": "https://localhost:8080/"
        },
        "id": "cuIgeWOqu-qW",
        "outputId": "66cb4786-2f7e-468d-cd02-b118e57eb12e"
      },
      "execution_count": 206,
      "outputs": [
        {
          "output_type": "stream",
          "name": "stdout",
          "text": [
            "Epoch 50/1000, Train Loss: 0.6410, Test Loss: 0.6517\n",
            "Epoch 100/1000, Train Loss: 0.4636, Test Loss: 0.4676\n",
            "Epoch 150/1000, Train Loss: 0.3657, Test Loss: 0.3688\n",
            "Epoch 200/1000, Train Loss: 0.3054, Test Loss: 0.3061\n",
            "Epoch 250/1000, Train Loss: 0.2642, Test Loss: 0.2622\n",
            "Epoch 300/1000, Train Loss: 0.2340, Test Loss: 0.2296\n",
            "Epoch 350/1000, Train Loss: 0.2110, Test Loss: 0.2046\n",
            "Epoch 400/1000, Train Loss: 0.1928, Test Loss: 0.1851\n",
            "Epoch 450/1000, Train Loss: 0.1782, Test Loss: 0.1696\n",
            "Epoch 500/1000, Train Loss: 0.1662, Test Loss: 0.1572\n",
            "Epoch 550/1000, Train Loss: 0.1561, Test Loss: 0.1471\n",
            "Epoch 600/1000, Train Loss: 0.1476, Test Loss: 0.1387\n",
            "Epoch 650/1000, Train Loss: 0.1404, Test Loss: 0.1317\n",
            "Epoch 700/1000, Train Loss: 0.1341, Test Loss: 0.1258\n",
            "Epoch 750/1000, Train Loss: 0.1286, Test Loss: 0.1207\n",
            "Epoch 800/1000, Train Loss: 0.1237, Test Loss: 0.1163\n",
            "Epoch 850/1000, Train Loss: 0.1194, Test Loss: 0.1124\n",
            "Epoch 900/1000, Train Loss: 0.1156, Test Loss: 0.1089\n",
            "Epoch 950/1000, Train Loss: 0.1121, Test Loss: 0.1059\n",
            "Epoch 1000/1000, Train Loss: 0.1089, Test Loss: 0.1031\n"
          ]
        }
      ]
    },
    {
      "cell_type": "code",
      "source": [
        "# Plot the train loss and test loss per iteration\n",
        "plt.plot(train_losses, label='train loss')\n",
        "plt.plot(test_losses, label='test loss')\n",
        "plt.legend()\n",
        "plt.show()"
      ],
      "metadata": {
        "colab": {
          "base_uri": "https://localhost:8080/",
          "height": 265
        },
        "id": "xI2HPGugvBIM",
        "outputId": "f171416c-b016-41a3-96a2-1f339d0523f5"
      },
      "execution_count": 207,
      "outputs": [
        {
          "output_type": "display_data",
          "data": {
            "text/plain": [
              "<Figure size 432x288 with 1 Axes>"
            ],
            "image/png": "[encoded data removed]"
          },
          "metadata": {
            "needs_background": "light"
          }
        }
      ]
    },
    {
      "cell_type": "code",
      "source": [
        "# Get accuracy\n",
        "with torch.no_grad():\n",
        "  p_train = model(X_train)\n",
        "  p_train = np.round(p_train.numpy())\n",
        "  train_acc = np.mean(y_train.numpy() == p_train)\n",
        "\n",
        "  p_test = model(X_test)\n",
        "  p_test = np.round(p_test.numpy())\n",
        "  test_acc = np.mean(y_test.numpy() == p_test)\n",
        "print(f\"Train acc: {train_acc:.4f}, Test acc: {test_acc:.4f}\")"
      ],
      "metadata": {
        "colab": {
          "base_uri": "https://localhost:8080/"
        },
        "id": "P7PBXTx9vW9w",
        "outputId": "798a2d79-5318-4c53-bc01-20deb65167db"
      },
      "execution_count": 208,
      "outputs": [
        {
          "output_type": "stream",
          "name": "stdout",
          "text": [
            "Train acc: 0.9816, Test acc: 0.9681\n"
          ]
        }
      ]
    },
    {
      "cell_type": "markdown",
      "source": [
        "# Exercise: Plot the accuracy per iteration"
      ],
      "metadata": {
        "id": "fgULWwhKzrp6"
      }
    },
    {
      "cell_type": "code",
      "source": [
        "# You rerun all of this to reset the model or you overwrite the model variable\n",
        "# If you don't its like running 2000 epochs \n",
        "\n",
        "# Load in the data\n",
        "from sklearn.datasets import load_breast_cancer\n",
        "\n",
        "# load the data\n",
        "data = load_breast_cancer()\n",
        "\n",
        "# split the data into train and test sets\n",
        "# this lets us simulate how our model will perform in the future\n",
        "X_train, X_test, y_train, y_test = train_test_split(data.data, data.target, test_size=0.33)\n",
        "N, D = X_train.shape\n",
        "\n",
        "# Scale the data\n",
        "scaler = StandardScaler()\n",
        "X_train = scaler.fit_transform(X_train)\n",
        "X_test = scaler.transform(X_test)\n",
        "\n",
        "# Build the model\n",
        "model = nn.Sequential(\n",
        "    nn.Linear(D, 1),\n",
        "    nn.Sigmoid()\n",
        ")\n",
        "\n",
        "# Loss and optimizer\n",
        "criterion = nn.BCELoss()\n",
        "optimizer = torch.optim.Adam(model.parameters())\n",
        "\n",
        "# Convert data into torch tensors\n",
        "X_train = torch.from_numpy(X_train.astype(np.float32))\n",
        "X_test = torch.from_numpy(X_test.astype(np.float32))\n",
        "y_train = torch.from_numpy(y_train.astype(np.float32).reshape(-1, 1))\n",
        "y_test = torch.from_numpy(y_test.astype(np.float32).reshape(-1, 1))"
      ],
      "metadata": {
        "id": "bWuK0TnZzteK"
      },
      "execution_count": 217,
      "outputs": []
    },
    {
      "cell_type": "code",
      "source": [
        "# Exercise: Plot the accuracy per iteration too\n",
        "\n",
        "# Train the model\n",
        "n_epochs = 1000\n",
        "\n",
        "# Stuff to store\n",
        "train_losses = np.zeros(n_epochs)\n",
        "test_losses = np.zeros(n_epochs)\n",
        "train_acc = np.zeros(n_epochs)\n",
        "test_acc = np.zeros(n_epochs)\n",
        "\n",
        "for it in range(n_epochs):\n",
        "  # zero the parameter gradients\n",
        "  optimizer.zero_grad()\n",
        "\n",
        "  # Forward pass\n",
        "  outputs = model(X_train)\n",
        "  loss = criterion(outputs, y_train)\n",
        "    \n",
        "  # Backward and optimize\n",
        "  loss.backward()\n",
        "  optimizer.step()\n",
        "\n",
        "  # Get test loss\n",
        "  outputs_test = model(X_test)\n",
        "  loss_test = criterion(outputs_test, y_test)\n",
        "\n",
        "  # Save losses\n",
        "  train_losses[it] = loss.item()\n",
        "  test_losses[it] = loss_test.item()\n",
        "\n",
        "  # Save Accuracy\n",
        "  with torch.no_grad():\n",
        "    outputs_np = np.round(outputs.numpy())\n",
        "    train_acc_val = np.mean(y_train.numpy() == outputs_np)\n",
        "    train_acc[it] = train_acc_val\n",
        "\n",
        "    outputs_test_np = np.round(outputs_test.numpy())\n",
        "    test_acc_val = np.mean(y_test.numpy() == outputs_test_np)\n",
        "    test_acc[it] = test_acc_val\n",
        "    \n",
        "  if (it + 1) % 50 == 0:\n",
        "    print(f'Epoch {it+1}/{n_epochs}, Train Loss: {loss.item():.4f}, Test Loss: {loss_test.item():.4f}, Train Acc: {train_acc_val:.4f}, Test Acc: {test_acc_val:.4f}')\n"
      ],
      "metadata": {
        "colab": {
          "base_uri": "https://localhost:8080/"
        },
        "id": "9m3BJ4_fv47z",
        "outputId": "947c628f-d930-4cfa-d7d1-1a8cc7c54db1"
      },
      "execution_count": 218,
      "outputs": [
        {
          "output_type": "stream",
          "name": "stdout",
          "text": [
            "Epoch 50/1000, Train Loss: 0.4494, Test Loss: 0.4563, Train Acc: 0.9029, Test Acc: 0.8617\n",
            "Epoch 100/1000, Train Loss: 0.3368, Test Loss: 0.3434, Train Acc: 0.9344, Test Acc: 0.9043\n",
            "Epoch 150/1000, Train Loss: 0.2713, Test Loss: 0.2807, Train Acc: 0.9475, Test Acc: 0.9202\n",
            "Epoch 200/1000, Train Loss: 0.2293, Test Loss: 0.2414, Train Acc: 0.9554, Test Acc: 0.9362\n",
            "Epoch 250/1000, Train Loss: 0.2006, Test Loss: 0.2148, Train Acc: 0.9606, Test Acc: 0.9309\n",
            "Epoch 300/1000, Train Loss: 0.1799, Test Loss: 0.1956, Train Acc: 0.9685, Test Acc: 0.9309\n",
            "Epoch 350/1000, Train Loss: 0.1643, Test Loss: 0.1811, Train Acc: 0.9711, Test Acc: 0.9309\n",
            "Epoch 400/1000, Train Loss: 0.1521, Test Loss: 0.1698, Train Acc: 0.9711, Test Acc: 0.9415\n",
            "Epoch 450/1000, Train Loss: 0.1424, Test Loss: 0.1606, Train Acc: 0.9711, Test Acc: 0.9415\n",
            "Epoch 500/1000, Train Loss: 0.1343, Test Loss: 0.1531, Train Acc: 0.9711, Test Acc: 0.9415\n",
            "Epoch 550/1000, Train Loss: 0.1276, Test Loss: 0.1467, Train Acc: 0.9711, Test Acc: 0.9415\n",
            "Epoch 600/1000, Train Loss: 0.1219, Test Loss: 0.1413, Train Acc: 0.9764, Test Acc: 0.9468\n",
            "Epoch 650/1000, Train Loss: 0.1170, Test Loss: 0.1366, Train Acc: 0.9790, Test Acc: 0.9521\n",
            "Epoch 700/1000, Train Loss: 0.1127, Test Loss: 0.1325, Train Acc: 0.9790, Test Acc: 0.9628\n",
            "Epoch 750/1000, Train Loss: 0.1089, Test Loss: 0.1288, Train Acc: 0.9790, Test Acc: 0.9628\n",
            "Epoch 800/1000, Train Loss: 0.1055, Test Loss: 0.1255, Train Acc: 0.9816, Test Acc: 0.9628\n",
            "Epoch 850/1000, Train Loss: 0.1025, Test Loss: 0.1226, Train Acc: 0.9816, Test Acc: 0.9628\n",
            "Epoch 900/1000, Train Loss: 0.0998, Test Loss: 0.1200, Train Acc: 0.9816, Test Acc: 0.9628\n",
            "Epoch 950/1000, Train Loss: 0.0973, Test Loss: 0.1176, Train Acc: 0.9816, Test Acc: 0.9628\n",
            "Epoch 1000/1000, Train Loss: 0.0951, Test Loss: 0.1154, Train Acc: 0.9816, Test Acc: 0.9628\n"
          ]
        }
      ]
    },
    {
      "cell_type": "code",
      "source": [
        "# Plot the train accuracy and test accuracy per iteration\n",
        "plt.plot(train_acc, label='train accuracy')\n",
        "plt.plot(test_acc, label='test accuracy')\n",
        "plt.legend()\n",
        "plt.show()"
      ],
      "metadata": {
        "colab": {
          "base_uri": "https://localhost:8080/",
          "height": 269
        },
        "id": "Ev_SR0AIxG2j",
        "outputId": "312c4e55-6b21-45d5-849a-f617dc9deb24"
      },
      "execution_count": 219,
      "outputs": [
        {
          "output_type": "display_data",
          "data": {
            "text/plain": [
              "<Figure size 432x288 with 1 Axes>"
            ],
            "image/png": "[encoded data removed]"
          },
          "metadata": {
            "needs_background": "light"
          }
        }
      ]
    },
    {
      "cell_type": "markdown",
      "source": [
        "# Save and Load **Model**"
      ],
      "metadata": {
        "id": "aVN7_LAMyoKw"
      }
    },
    {
      "cell_type": "code",
      "source": [
        "# Look at the state dict <- Weights of the neural network\n",
        "model.state_dict()"
      ],
      "metadata": {
        "colab": {
          "base_uri": "https://localhost:8080/"
        },
        "id": "92V32gFuyrLV",
        "outputId": "094f32f9-4ac4-4b90-cb39-83ee179b53b4"
      },
      "execution_count": 211,
      "outputs": [
        {
          "output_type": "execute_result",
          "data": {
            "text/plain": [
              "OrderedDict([('0.weight',\n",
              "              tensor([[-0.5175, -0.5563, -0.5811, -0.4307, -0.2923, -0.2243, -0.2845, -0.5124,\n",
              "                       -0.0610,  0.6437, -0.5169, -0.1304, -0.4499, -0.3932, -0.1549,  0.4876,\n",
              "                       -0.2685, -0.3084,  0.3852,  0.6296, -0.4611, -0.6197, -0.3211, -0.5015,\n",
              "                       -0.6683, -0.3510, -0.2778, -0.3141, -0.6440, -0.5094]])),\n",
              "             ('0.bias', tensor([0.4457]))])"
            ]
          },
          "metadata": {},
          "execution_count": 211
        }
      ]
    },
    {
      "cell_type": "code",
      "source": [
        "# Save the model\n",
        "torch.save(model.state_dict(), 'mymodel.pt')"
      ],
      "metadata": {
        "id": "3gf-kRbzyuoJ"
      },
      "execution_count": 212,
      "outputs": []
    },
    {
      "cell_type": "code",
      "source": [
        "!ls"
      ],
      "metadata": {
        "colab": {
          "base_uri": "https://localhost:8080/"
        },
        "id": "q4SPX9qYy4ju",
        "outputId": "f93da24d-151a-499d-8372-07269b2eb610"
      },
      "execution_count": 213,
      "outputs": [
        {
          "output_type": "stream",
          "name": "stdout",
          "text": [
            "moore.csv  mymodel.pt  sample_data\n"
          ]
        }
      ]
    },
    {
      "cell_type": "code",
      "source": [
        "# Load the model\n",
        "# Note: this makes more sense and is more compact when\n",
        "# your model is a big class, as we will be seeing later.\n",
        "model2 = nn.Sequential(\n",
        "    nn.Linear(D, 1),\n",
        "    nn.Sigmoid()\n",
        ")\n",
        "model2.load_state_dict(torch.load('mymodel.pt'))"
      ],
      "metadata": {
        "colab": {
          "base_uri": "https://localhost:8080/"
        },
        "id": "IIsZW826zdFX",
        "outputId": "488bb2d7-9f50-4a71-c474-dce42553bf93"
      },
      "execution_count": 214,
      "outputs": [
        {
          "output_type": "execute_result",
          "data": {
            "text/plain": [
              "<All keys matched successfully>"
            ]
          },
          "metadata": {},
          "execution_count": 214
        }
      ]
    },
    {
      "cell_type": "code",
      "source": [
        "# Evaluate the new model\n",
        "# Results should be the same!\n",
        "with torch.no_grad():\n",
        "  p_train = model2(X_train)\n",
        "  p_train = np.round(p_train.numpy())\n",
        "  train_acc = np.mean(y_train.numpy() == p_train)\n",
        "\n",
        "  p_test = model2(X_test)\n",
        "  p_test = np.round(p_test.numpy())\n",
        "  test_acc = np.mean(y_test.numpy() == p_test)\n",
        "print(f\"Train acc: {train_acc:.4f}, Test acc: {test_acc:.4f}\")"
      ],
      "metadata": {
        "colab": {
          "base_uri": "https://localhost:8080/"
        },
        "id": "xgA9Fgp4ze55",
        "outputId": "20b691ee-9e36-487a-a9ad-1e2c31d57ec2"
      },
      "execution_count": 215,
      "outputs": [
        {
          "output_type": "stream",
          "name": "stdout",
          "text": [
            "Train acc: 0.9869, Test acc: 0.9787\n"
          ]
        }
      ]
    },
    {
      "cell_type": "code",
      "source": [
        "# Download the model\n",
        "from google.colab import files\n",
        "files.download('mymodel.pt')"
      ],
      "metadata": {
        "colab": {
          "base_uri": "https://localhost:8080/",
          "height": 17
        },
        "id": "WxtrBA3zzg0M",
        "outputId": "8391384a-e415-4e77-f5f4-737e2182c7d9"
      },
      "execution_count": 216,
      "outputs": [
        {
          "output_type": "display_data",
          "data": {
            "text/plain": [
              "<IPython.core.display.Javascript object>"
            ],
            "application/javascript": [
              "\n",
              "    async function download(id, filename, size) {\n",
              "      if (!google.colab.kernel.accessAllowed) {\n",
              "        return;\n",
              "      }\n",
              "      const div = document.createElement('div');\n",
              "      const label = document.createElement('label');\n",
              "      label.textContent = `Downloading \"${filename}\": `;\n",
              "      div.appendChild(label);\n",
              "      const progress = document.createElement('progress');\n",
              "      progress.max = size;\n",
              "      div.appendChild(progress);\n",
              "      document.body.appendChild(div);\n",
              "\n",
              "      const buffers = [];\n",
              "      let downloaded = 0;\n",
              "\n",
              "      const channel = await google.colab.kernel.comms.open(id);\n",
              "      // Send a message to notify the kernel that we're ready.\n",
              "      channel.send({})\n",
              "\n",
              "      for await (const message of channel.messages) {\n",
              "        // Send a message to notify the kernel that we're ready.\n",
              "        channel.send({})\n",
              "        if (message.buffers) {\n",
              "          for (const buffer of message.buffers) {\n",
              "            buffers.push(buffer);\n",
              "            downloaded += buffer.byteLength;\n",
              "            progress.value = downloaded;\n",
              "          }\n",
              "        }\n",
              "      }\n",
              "      const blob = new Blob(buffers, {type: 'application/binary'});\n",
              "      const a = document.createElement('a');\n",
              "      a.href = window.URL.createObjectURL(blob);\n",
              "      a.download = filename;\n",
              "      div.appendChild(a);\n",
              "      a.click();\n",
              "      div.remove();\n",
              "    }\n",
              "  "
            ]
          },
          "metadata": {}
        },
        {
          "output_type": "display_data",
          "data": {
            "text/plain": [
              "<IPython.core.display.Javascript object>"
            ],
            "application/javascript": [
              "download(\"download_8b77488f-70f0-43ee-9c0e-7ea8431683b3\", \"mymodel.pt\", 1191)"
            ]
          },
          "metadata": {}
        }
      ]
    },
    {
      "cell_type": "markdown",
      "source": [
        "# **With LOGIT**"
      ],
      "metadata": {
        "id": "RrVjmIUa5uw1"
      }
    },
    {
      "cell_type": "markdown",
      "source": [
        "Two differences"
      ],
      "metadata": {
        "id": "zXTN1O6P5u1u"
      }
    },
    {
      "cell_type": "code",
      "source": [
        "# Two differences\n",
        "\n",
        "# Create Model\n",
        "criterion = nn.BCEWithLogitsLoss() # Don't need the sigmoid because we have the gradient descent\n",
        "optimizer = torch.optim.Adam(model.parameters())"
      ],
      "metadata": {
        "id": "igv_0Gi45uBG"
      },
      "execution_count": null,
      "outputs": []
    },
    {
      "cell_type": "code",
      "source": [
        "# Making Predictions check if more or less then zero.\n",
        "# Get accuracy\n",
        "with torch.no_grad():\n",
        "  p_train = model(X_train)\n",
        "  p_train = (p_train.numpy() > 0)\n",
        "  train_acc = np.mean(y_train.numpy() == p_train) # Check means to each other.\n",
        "\n",
        "  p_test = model(X_test)\n",
        "  p_test = (p_test.numpy() > 0)\n",
        "  test_acc = np.mean(y_test.numpy() == p_test)\n",
        "print(f\"Train acc: {train_acc:.4f}, Test acc: {test_acc:.4f}\")"
      ],
      "metadata": {
        "id": "8gF9pg3B6Mtm"
      },
      "execution_count": null,
      "outputs": []
    }
  ]
}